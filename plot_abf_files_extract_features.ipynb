{
 "cells": [
  {
   "cell_type": "code",
   "execution_count": null,
   "metadata": {},
   "outputs": [],
   "source": [
    "# plot cells and extract ephys features using ipfx"
   ]
  },
  {
   "cell_type": "code",
   "execution_count": 1,
   "metadata": {},
   "outputs": [],
   "source": [
    "import pyabf\n",
    "import matplotlib.pyplot as plt\n",
    "import pandas as pd\n",
    "import numpy as np\n",
    "import glob"
   ]
  },
  {
   "cell_type": "code",
   "execution_count": 2,
   "metadata": {},
   "outputs": [],
   "source": [
    "from scripts.util_functions import guess_response_gain, get_stim_gain, get_stim_info, get_stim_dict"
   ]
  },
  {
   "cell_type": "code",
   "execution_count": 3,
   "metadata": {},
   "outputs": [],
   "source": [
    "# read final csv that has the ouput of metadata gathering process\n",
    "csv_meta_save_path = 'output_files/cell_final_raw_meta_df.csv'\n",
    "cell_final_raw_meta_df = pd.read_csv(open(csv_meta_save_path, 'rb'))  "
   ]
  },
  {
   "cell_type": "code",
   "execution_count": 4,
   "metadata": {},
   "outputs": [],
   "source": [
    "from ipfx.sweep import Sweep, SweepSet\n",
    "\n",
    "def cell_id_to_sweep_set(abf_file_name, meta_info_df = cell_final_raw_meta_df):\n",
    "    \n",
    "    curr_file = abf_file_name\n",
    "\n",
    "    meta_dict = meta_info_df\n",
    "\n",
    "    #curr_file = '15o08020.abf'\n",
    "\n",
    "    meta_row = meta_dict.loc[meta_dict['cell_id'] == curr_file]\n",
    "\n",
    "    file_path = meta_row['full_path'].values[0]\n",
    "    stim_file_path = meta_row['stim_path'].values[0]\n",
    "\n",
    "\n",
    "    resp_abf = pyabf.ABF(file_path)\n",
    "    stim_abf = pyabf.ABF(stim_file_path) # for some files we're using stim traces from a different file\n",
    "\n",
    "    num_sweeps = int(meta_row['num_sweeps'].values[0])\n",
    "    stim_channel_num = int(meta_row['stim_chan'].values[0])\n",
    "    response_chan_num = int(meta_row['resp_chan'].values[0])\n",
    "    stim_gain = meta_row['stim_gain'].values[0]\n",
    "    response_gain = meta_row['resp_gain'].values[0]\n",
    "\n",
    "    start_time = meta_row['stim_start_time'].values[0]\n",
    "    end_time = meta_row['stim_end_time'].values[0]\n",
    "    resp_sampling_rate = meta_row['resp_sampling_rate'].values[0]\n",
    "    stim_sampling_rate = meta_row['stim_sampling_rate'].values[0]\n",
    "    \n",
    "    stim_dict = get_stim_dict(meta_row, cell_final_raw_meta_df)\n",
    "    stim_amps = stim_dict['stim_amp_vec']\n",
    "\n",
    "    # curr_epoch = (int(start_time*10000), int(end_time*10000))\n",
    "    # print(curr_epoch)\n",
    "\n",
    "    clamp_mode = \"CurrentClamp\"\n",
    "\n",
    "    sweep_list = list()\n",
    "\n",
    "    for i in range(0, num_sweeps):\n",
    "        sweep_num = i\n",
    "        resp_abf.setSweep(sweep_num, channel=response_chan_num)\n",
    "\n",
    "        time_vec = resp_abf.sweepX\n",
    "        response_vec = resp_abf.sweepY * response_gain\n",
    "\n",
    "        stim_abf.setSweep(sweep_num, channel=stim_channel_num)\n",
    "        stim_vec = stim_abf.sweepC * stim_gain\n",
    "        \n",
    "        # sometimes, when we get stim from a different file, they have diff samp rates 0_o\n",
    "        if stim_sampling_rate != resp_sampling_rate:\n",
    "            new_stim_vec = np.zeros(len(time_vec))\n",
    "            inds = np.where((time_vec > start_time) & (time_vec < end_time))\n",
    "            new_stim_vec[inds] = stim_amps[i]\n",
    "            stim_vec = new_stim_vec\n",
    "            #stim_vec = signal.resample(stim_vec, len(time_vec))\n",
    "\n",
    "        sweep = Sweep(t=time_vec,\n",
    "                      v=response_vec,\n",
    "                      i=stim_vec,\n",
    "                      sampling_rate=resp_sampling_rate,\n",
    "                      sweep_number=i,\n",
    "                      clamp_mode=clamp_mode,\n",
    "                      #epochs = curr_epoch\n",
    "                      )\n",
    "        sweep_list.append(sweep)\n",
    "    sweep_set = SweepSet(sweep_list)\n",
    "    return(sweep_set, start_time, end_time)"
   ]
  },
  {
   "cell_type": "code",
   "execution_count": 56,
   "metadata": {},
   "outputs": [],
   "source": [
    "def plot_ephys_from_abf(abf_file_name, meta_dict = cell_final_raw_meta_df, show_sweeps = [0, -1]):\n",
    "    \n",
    "    curr_file = abf_file_name\n",
    "\n",
    "    #curr_file = '15o08020.abf'\n",
    "\n",
    "    meta_row = meta_dict.loc[meta_dict['cell_id'] == curr_file]\n",
    "    \n",
    "    file_path = meta_row['full_path'].values[0]\n",
    "    stim_file_path = meta_row['stim_path'].values[0]\n",
    "    #fn = file_base_base_path + file_base_path + curr_file\n",
    "    # 2016_02_04_0042.abf - example from cluster 4 - burst firing\n",
    "    # 13d02049.abf - example from cluster 1\n",
    "\n",
    "    resp_abf = pyabf.ABF(file_path)\n",
    "    stim_abf = pyabf.ABF(stim_file_path) # for some files we're using stim traces from a different file\n",
    "\n",
    "    num_sweeps = int(meta_row['num_sweeps'].values[0])\n",
    "    stim_channel_num = int(meta_row['stim_chan'].values[0])\n",
    "    response_chan_num = int(meta_row['resp_chan'].values[0])\n",
    "    stim_gain = meta_row['stim_gain'].values[0]\n",
    "    response_gain = meta_row['resp_gain'].values[0]\n",
    "    \n",
    "    stim_start_time = meta_row['stim_start_time'].values[0]\n",
    "    stim_end_time = meta_row['stim_end_time'].values[0]\n",
    "    \n",
    "    #stim_end = 2\n",
    "\n",
    "    sweep_num = 0\n",
    "    sweep_plot_list = show_sweeps\n",
    "\n",
    "    fig = plt.figure(figsize=(8, 5))\n",
    "    fig, (ax1, ax2) = plt.subplots(2, sharex=True)\n",
    "\n",
    "    for i in sweep_plot_list:\n",
    "        sweep_num = i\n",
    "        resp_abf.setSweep(sweep_num, channel=response_chan_num)\n",
    "        # plot the ADC (voltage recording)\n",
    "        #ax1 = fig.add_subplot(211)\n",
    "        #ax1.set_title(\"ADC (recorded waveform)\")\n",
    "        ax1.plot(resp_abf.sweepX, resp_abf.sweepY*response_gain, alpha = .5)\n",
    "\n",
    "        # plot the DAC (clamp current)\n",
    "        #ax2 = fig.add_subplot(212, sharex=ax1)  # <-- this argument is new\n",
    "        #ax2.set_title(\"DAC (stimulus waveform)\")\n",
    "        stim_abf.setSweep(sweep_num, channel=stim_channel_num)\n",
    "        #abf.setSweep(sweep_num, channel=1)\n",
    "        ax2.plot(stim_abf.sweepX, stim_abf.sweepC * stim_gain, alpha = .5)\n",
    "\n",
    "    # decorate the plots\n",
    "    ax1.set_ylabel(resp_abf.sweepLabelY)\n",
    "    ax2.set_xlabel(resp_abf.sweepLabelX)\n",
    "    ax2.set_ylabel(resp_abf.sweepLabelC)\n",
    "    ax1.axes.set_xlim(0, stim_end_time + .25)  # <-- adjust axis like this\n",
    "    return(fig, ax1, ax2)\n",
    "    #plt.show()"
   ]
  },
  {
   "cell_type": "code",
   "execution_count": 6,
   "metadata": {},
   "outputs": [],
   "source": [
    "from ipfx.feature_extractor import SpikeTrainFeatureExtractor, SpikeFeatureExtractor\n",
    "from ipfx.stimulus_protocol_analysis import LongSquareAnalysis\n",
    "\n",
    "# We configure a SpikeFeatureExtractor and SpikeTrainFeatureExtractor that the analysis object will use\n",
    "\n",
    "#bessel_filter_khz = sampling_rate / 10000 * 2.5\n",
    "bessel_filter_khz = 1\n",
    "\n",
    "def get_lsa_results(sweep_set, start_time, end_time):\n",
    "    spike_extractor = SpikeFeatureExtractor(start=start_time, end=end_time, filter = bessel_filter_khz)\n",
    "    spike_train_extractor = SpikeTrainFeatureExtractor(start=start_time, end=end_time, baseline_interval = .05)\n",
    "\n",
    "    # Create the analysis object\n",
    "    lsa = LongSquareAnalysis(spx=spike_extractor,\n",
    "                             sptx=spike_train_extractor,\n",
    "                             subthresh_min_amp=-400, \n",
    "                            )\n",
    "    lsa_results = lsa.analyze(sweep_set)\n",
    "    return lsa_results\n"
   ]
  },
  {
   "cell_type": "code",
   "execution_count": 62,
   "metadata": {},
   "outputs": [
    {
     "data": {
      "text/plain": [
       "<Figure size 576x360 with 0 Axes>"
      ]
     },
     "metadata": {},
     "output_type": "display_data"
    },
    {
     "data": {
      "image/png": "[encoded data removed]",
      "text/plain": [
       "<Figure size 432x288 with 2 Axes>"
      ]
     },
     "metadata": {
      "needs_background": "light"
     },
     "output_type": "display_data"
    }
   ],
   "source": []
  },
  {
   "cell_type": "code",
   "execution_count": 66,
   "metadata": {},
   "outputs": [
    {
     "name": "stderr",
     "output_type": "stream",
     "text": [
      "INFO:root:Need to recalculate threshold-peak pair that exceeds maximum allowed interval (0.005000 s)\n",
      "INFO:root:Could not redetermine threshold-peak pair - dropping that pair\n",
      "INFO:root:Need to recalculate threshold-peak pair that exceeds maximum allowed interval (0.005000 s)\n",
      "INFO:root:Could not redetermine threshold-peak pair - dropping that pair\n",
      "INFO:root:Need to recalculate threshold-peak pair that exceeds maximum allowed interval (0.005000 s)\n",
      "INFO:root:Could not redetermine threshold-peak pair - dropping that pair\n"
     ]
    },
    {
     "data": {
      "text/plain": [
       "<Figure size 576x360 with 0 Axes>"
      ]
     },
     "metadata": {},
     "output_type": "display_data"
    },
    {
     "data": {
      "image/png": "[encoded data removed]",
      "text/plain": [
       "<Figure size 432x288 with 2 Axes>"
      ]
     },
     "metadata": {
      "needs_background": "light"
     },
     "output_type": "display_data"
    }
   ],
   "source": [
    "\n",
    "abf_file_name = '15o08011.abf'\n",
    "\n",
    "#plot_ephys_from_abf(abf_file_name, cell_final_raw_meta_df)\n",
    "(sweep_set, start_time, end_time) = cell_id_to_sweep_set(abf_file_name, meta_info_df = cell_final_raw_meta_df)\n",
    "lsa_results = get_lsa_results(sweep_set, start_time, end_time)\n",
    "\n",
    "\n",
    "rheo_sweep_index = lsa_results['rheobase_sweep'].name\n",
    "hero_sweep_index = lsa_results['hero_sweep'].name\n",
    "num_sweeps = len(lsa_results['sweeps'])\n",
    "\n",
    "show_sweeps = [0, hero_sweep_index, num_sweeps-1]\n",
    "\n",
    "(fig, ax1, ax2) = plot_ephys_from_abf(abf_file_name, cell_final_raw_meta_df, show_sweeps)\n",
    "\n",
    "#14617300.abf - FS interneuron\n",
    "#15616008.abf"
   ]
  },
  {
   "cell_type": "code",
   "execution_count": 67,
   "metadata": {},
   "outputs": [
    {
     "name": "stderr",
     "output_type": "stream",
     "text": [
      "INFO:root:Need to recalculate threshold-peak pair that exceeds maximum allowed interval (0.005000 s)\n",
      "INFO:root:Could not redetermine threshold-peak pair - dropping that pair\n",
      "INFO:root:Need to recalculate threshold-peak pair that exceeds maximum allowed interval (0.005000 s)\n",
      "INFO:root:Could not redetermine threshold-peak pair - dropping that pair\n",
      "INFO:root:Need to recalculate threshold-peak pair that exceeds maximum allowed interval (0.005000 s)\n",
      "INFO:root:Could not redetermine threshold-peak pair - dropping that pair\n"
     ]
    },
    {
     "data": {
      "text/plain": [
       "Text(0, 0.5, 'firing rate (spikes/s)')"
      ]
     },
     "execution_count": 67,
     "metadata": {},
     "output_type": "execute_result"
    },
    {
     "data": {
      "image/png": "[encoded data removed]",
      "text/plain": [
       "<Figure size 432x288 with 1 Axes>"
      ]
     },
     "metadata": {
      "needs_background": "light"
     },
     "output_type": "display_data"
    }
   ],
   "source": [
    "lsa_results = get_lsa_results(sweep_set, start_time, end_time)\n",
    "#print(lsa_results)\n",
    "\n",
    "import seaborn as sns\n",
    "spiking_df = lsa_results[\"spiking_sweeps\"]\n",
    "\n",
    "plt.plot(spiking_df[\"stim_amp\"], spiking_df[\"avg_rate\"], '.-')\n",
    "sns.despine()\n",
    "plt.xlabel(\"stimulus amplitude (pA)\")\n",
    "plt.ylabel(\"firing rate (spikes/s)\")\n",
    "#plt.xlim(-300, stim_amps[-1] + 5)"
   ]
  },
  {
   "cell_type": "code",
   "execution_count": 47,
   "metadata": {},
   "outputs": [
    {
     "name": "stdout",
     "output_type": "stream",
     "text": [
      "13n05011.abf\n",
      "13n21007.abf\n",
      "13d02049.abf\n",
      "13d02022.abf\n",
      "13d02004.abf\n",
      "13d03040.abf\n",
      "13d03029.abf\n",
      "13d03008.abf\n",
      "13d03007.abf\n",
      "13d03005.abf\n",
      "20131211_600_1_0066.abf\n",
      "1000\n",
      "20131211_600_1_0042.abf\n",
      "1000\n",
      "20131211_600_1_0002.abf\n",
      "1000\n",
      "20131211_600_1_0081.abf\n",
      "1000\n",
      "20131211_600_1_0108.abf\n",
      "1000\n",
      "20131211_600_1_0160.abf\n",
      "1000\n",
      "20131211_600_1_0067.abf\n",
      "1000\n",
      "20131211_600_1_0184.abf\n",
      "1000\n",
      "20131211_600_1_0190.abf\n",
      "1000\n",
      "20140127_600_1_0158.abf\n",
      "1000\n",
      "20140127_600_1_0118.abf\n",
      "1000\n",
      "14304311.abf\n",
      "14304300.abf\n",
      "14317348.abf\n",
      "14317320.abf\n",
      "14317300.abf\n",
      "14318308.abf\n",
      "14424329.abf\n",
      "14424000.abf\n",
      "14424335.abf\n"
     ]
    },
    {
     "name": "stderr",
     "output_type": "stream",
     "text": [
      "INFO:root:Need to recalculate threshold-peak pair that exceeds maximum allowed interval (0.005000 s)\n",
      "INFO:root:Could not redetermine threshold-peak pair - dropping that pair\n"
     ]
    },
    {
     "name": "stdout",
     "output_type": "stream",
     "text": [
      "14515300.abf\n",
      "14515374.abf\n",
      "14515372.abf\n",
      "14515349.abf\n",
      "14520332.abf\n",
      "14520300.abf\n",
      "14605374.abf\n"
     ]
    },
    {
     "name": "stderr",
     "output_type": "stream",
     "text": [
      "INFO:root:Need to recalculate threshold-peak pair that exceeds maximum allowed interval (0.005000 s)\n",
      "INFO:root:Could not redetermine threshold-peak pair - dropping that pair\n",
      "INFO:root:Need to recalculate threshold-peak pair that exceeds maximum allowed interval (0.005000 s)\n",
      "INFO:root:Could not redetermine threshold-peak pair - dropping that pair\n",
      "INFO:root:Need to recalculate threshold-peak pair that exceeds maximum allowed interval (0.005000 s)\n",
      "INFO:root:Could not redetermine threshold-peak pair - dropping that pair\n",
      "INFO:root:Need to recalculate threshold-peak pair that exceeds maximum allowed interval (0.005000 s)\n",
      "INFO:root:Could not redetermine threshold-peak pair - dropping that pair\n",
      "INFO:root:Need to recalculate threshold-peak pair that exceeds maximum allowed interval (0.005000 s)\n",
      "INFO:root:Could not redetermine threshold-peak pair - dropping that pair\n"
     ]
    },
    {
     "name": "stdout",
     "output_type": "stream",
     "text": [
      "14605349.abf\n"
     ]
    },
    {
     "name": "stderr",
     "output_type": "stream",
     "text": [
      "INFO:root:Need to recalculate threshold-peak pair that exceeds maximum allowed interval (0.005000 s)\n",
      "INFO:root:Could not redetermine threshold-peak pair - dropping that pair\n",
      "INFO:root:Need to recalculate threshold-peak pair that exceeds maximum allowed interval (0.005000 s)\n",
      "INFO:root:Could not redetermine threshold-peak pair - dropping that pair\n"
     ]
    },
    {
     "name": "stdout",
     "output_type": "stream",
     "text": [
      "14605338.abf\n"
     ]
    },
    {
     "name": "stderr",
     "output_type": "stream",
     "text": [
      "INFO:root:Need to recalculate threshold-peak pair that exceeds maximum allowed interval (0.005000 s)\n",
      "INFO:root:Could not redetermine threshold-peak pair - dropping that pair\n",
      "INFO:root:Need to recalculate threshold-peak pair that exceeds maximum allowed interval (0.005000 s)\n",
      "INFO:root:Could not redetermine threshold-peak pair - dropping that pair\n",
      "INFO:root:Need to recalculate threshold-peak pair that exceeds maximum allowed interval (0.005000 s)\n",
      "INFO:root:Could not redetermine threshold-peak pair - dropping that pair\n"
     ]
    },
    {
     "name": "stdout",
     "output_type": "stream",
     "text": [
      "14605325.abf\n",
      "14605321.abf\n",
      "14605300.abf\n",
      "14617312.abf\n",
      "14617300.abf\n",
      "14624311.abf\n",
      "14624325.abf\n"
     ]
    },
    {
     "name": "stderr",
     "output_type": "stream",
     "text": [
      "INFO:root:Need to recalculate threshold-peak pair that exceeds maximum allowed interval (0.005000 s)\n",
      "INFO:root:Could not redetermine threshold-peak pair - dropping that pair\n",
      "INFO:root:Need to recalculate threshold-peak pair that exceeds maximum allowed interval (0.005000 s)\n",
      "INFO:root:Could not redetermine threshold-peak pair - dropping that pair\n",
      "INFO:root:Need to recalculate threshold-peak pair that exceeds maximum allowed interval (0.005000 s)\n",
      "INFO:root:Could not redetermine threshold-peak pair - dropping that pair\n"
     ]
    },
    {
     "name": "stdout",
     "output_type": "stream",
     "text": [
      "14624371.abf\n",
      "14624300.abf\n",
      "14624359.abf\n",
      "14626311.abf\n"
     ]
    },
    {
     "name": "stderr",
     "output_type": "stream",
     "text": [
      "INFO:root:Need to recalculate threshold-peak pair that exceeds maximum allowed interval (0.005000 s)\n",
      "INFO:root:Could not redetermine threshold-peak pair - dropping that pair\n"
     ]
    },
    {
     "name": "stdout",
     "output_type": "stream",
     "text": [
      "14626300.abf\n",
      "14715300.abf\n",
      "14715312.abf\n",
      "14715334.abf\n",
      "14911303.abf\n",
      "14911315.abf\n",
      "14918300.abf\n",
      "14918302.abf\n",
      "14918344.abf\n",
      "14918372.abf\n"
     ]
    },
    {
     "name": "stderr",
     "output_type": "stream",
     "text": [
      "INFO:root:Need to recalculate threshold-peak pair that exceeds maximum allowed interval (0.005000 s)\n",
      "INFO:root:Could not redetermine threshold-peak pair - dropping that pair\n"
     ]
    },
    {
     "name": "stdout",
     "output_type": "stream",
     "text": [
      "14n03302.abf\n",
      "14n03328.abf\n",
      "14n04346.abf\n"
     ]
    },
    {
     "name": "stderr",
     "output_type": "stream",
     "text": [
      "INFO:root:Need to recalculate threshold-peak pair that exceeds maximum allowed interval (0.005000 s)\n",
      "INFO:root:Need to recalculate threshold-peak pair that exceeds maximum allowed interval (0.005000 s)\n",
      "INFO:root:Need to recalculate threshold-peak pair that exceeds maximum allowed interval (0.005000 s)\n",
      "INFO:root:Need to recalculate threshold-peak pair that exceeds maximum allowed interval (0.005000 s)\n",
      "INFO:root:Could not redetermine threshold-peak pair - dropping that pair\n",
      "INFO:root:Could not redetermine threshold-peak pair - dropping that pair\n",
      "INFO:root:Could not redetermine threshold-peak pair - dropping that pair\n",
      "INFO:root:Could not redetermine threshold-peak pair - dropping that pair\n",
      "INFO:root:Need to recalculate threshold-peak pair that exceeds maximum allowed interval (0.005000 s)\n",
      "INFO:root:Could not redetermine threshold-peak pair - dropping that pair\n",
      "INFO:root:Need to recalculate threshold-peak pair that exceeds maximum allowed interval (0.005000 s)\n",
      "INFO:root:Could not redetermine threshold-peak pair - dropping that pair\n"
     ]
    },
    {
     "name": "stdout",
     "output_type": "stream",
     "text": [
      "14n04322.abf\n"
     ]
    },
    {
     "name": "stderr",
     "output_type": "stream",
     "text": [
      "INFO:root:Need to recalculate threshold-peak pair that exceeds maximum allowed interval (0.005000 s)\n",
      "INFO:root:Could not redetermine threshold-peak pair - dropping that pair\n",
      "INFO:root:Need to recalculate threshold-peak pair that exceeds maximum allowed interval (0.005000 s)\n",
      "INFO:root:Could not redetermine threshold-peak pair - dropping that pair\n",
      "INFO:root:Need to recalculate threshold-peak pair that exceeds maximum allowed interval (0.005000 s)\n",
      "INFO:root:Could not redetermine threshold-peak pair - dropping that pair\n"
     ]
    },
    {
     "name": "stdout",
     "output_type": "stream",
     "text": [
      "14n04362.abf\n",
      "14n10459.abf\n"
     ]
    },
    {
     "name": "stderr",
     "output_type": "stream",
     "text": [
      "INFO:root:Need to recalculate threshold-peak pair that exceeds maximum allowed interval (0.005000 s)\n",
      "INFO:root:Could not redetermine threshold-peak pair - dropping that pair\n",
      "INFO:root:Need to recalculate threshold-peak pair that exceeds maximum allowed interval (0.005000 s)\n",
      "INFO:root:Could not redetermine threshold-peak pair - dropping that pair\n",
      "INFO:root:Need to recalculate threshold-peak pair that exceeds maximum allowed interval (0.005000 s)\n",
      "INFO:root:Could not redetermine threshold-peak pair - dropping that pair\n"
     ]
    },
    {
     "name": "stdout",
     "output_type": "stream",
     "text": [
      "14n10302.abf\n"
     ]
    },
    {
     "name": "stderr",
     "output_type": "stream",
     "text": [
      "INFO:root:Need to recalculate threshold-peak pair that exceeds maximum allowed interval (0.005000 s)\n",
      "INFO:root:Could not redetermine threshold-peak pair - dropping that pair\n",
      "INFO:root:Need to recalculate threshold-peak pair that exceeds maximum allowed interval (0.005000 s)\n",
      "INFO:root:Could not redetermine threshold-peak pair - dropping that pair\n",
      "INFO:root:Need to recalculate threshold-peak pair that exceeds maximum allowed interval (0.005000 s)\n",
      "INFO:root:Could not redetermine threshold-peak pair - dropping that pair\n",
      "INFO:root:Need to recalculate threshold-peak pair that exceeds maximum allowed interval (0.005000 s)\n",
      "INFO:root:Could not redetermine threshold-peak pair - dropping that pair\n",
      "INFO:root:Need to recalculate threshold-peak pair that exceeds maximum allowed interval (0.005000 s)\n",
      "INFO:root:Could not redetermine threshold-peak pair - dropping that pair\n"
     ]
    },
    {
     "name": "stdout",
     "output_type": "stream",
     "text": [
      "14d02000.abf\n",
      "14d02055.abf\n",
      "14d02065.abf\n",
      "14d02124.abf\n",
      "14d16000.abf\n"
     ]
    },
    {
     "name": "stderr",
     "output_type": "stream",
     "text": [
      "INFO:root:Need to recalculate threshold-peak pair that exceeds maximum allowed interval (0.005000 s)\n",
      "INFO:root:Could not redetermine threshold-peak pair - dropping that pair\n",
      "INFO:root:Need to recalculate threshold-peak pair that exceeds maximum allowed interval (0.005000 s)\n",
      "INFO:root:Could not redetermine threshold-peak pair - dropping that pair\n",
      "INFO:root:Need to recalculate threshold-peak pair that exceeds maximum allowed interval (0.005000 s)\n",
      "INFO:root:Could not redetermine threshold-peak pair - dropping that pair\n"
     ]
    },
    {
     "name": "stdout",
     "output_type": "stream",
     "text": [
      "14d16016.abf\n"
     ]
    },
    {
     "name": "stderr",
     "output_type": "stream",
     "text": [
      "INFO:root:Need to recalculate threshold-peak pair that exceeds maximum allowed interval (0.005000 s)\n",
      "INFO:root:Could not redetermine threshold-peak pair - dropping that pair\n",
      "INFO:root:Need to recalculate threshold-peak pair that exceeds maximum allowed interval (0.005000 s)\n",
      "INFO:root:Could not redetermine threshold-peak pair - dropping that pair\n",
      "INFO:root:Need to recalculate threshold-peak pair that exceeds maximum allowed interval (0.005000 s)\n",
      "INFO:root:Could not redetermine threshold-peak pair - dropping that pair\n"
     ]
    },
    {
     "name": "stdout",
     "output_type": "stream",
     "text": [
      "14d16022.abf\n",
      "14d16056.abf\n",
      "14d16134.abf\n",
      "14d18087.abf\n",
      "14d18113.abf\n",
      "14d18005.abf\n",
      "14d18033.abf\n",
      "15105107.abf\n",
      "15105065.abf\n",
      "15105000.abf\n",
      "15105080.abf\n",
      "15127132.abf\n"
     ]
    },
    {
     "name": "stderr",
     "output_type": "stream",
     "text": [
      "INFO:root:Need to recalculate threshold-peak pair that exceeds maximum allowed interval (0.005000 s)\n"
     ]
    },
    {
     "name": "stdout",
     "output_type": "stream",
     "text": [
      "15127001.abf\n",
      "failing...\n",
      "15127028.abf\n",
      "15127041.abf\n",
      "15127061.abf\n",
      "15127092.abf\n"
     ]
    },
    {
     "name": "stderr",
     "output_type": "stream",
     "text": [
      "INFO:root:Need to recalculate threshold-peak pair that exceeds maximum allowed interval (0.005000 s)\n",
      "INFO:root:Could not redetermine threshold-peak pair - dropping that pair\n",
      "INFO:root:Need to recalculate threshold-peak pair that exceeds maximum allowed interval (0.005000 s)\n",
      "INFO:root:Need to recalculate threshold-peak pair that exceeds maximum allowed interval (0.005000 s)\n",
      "INFO:root:Could not redetermine threshold-peak pair - dropping that pair\n",
      "INFO:root:Need to recalculate threshold-peak pair that exceeds maximum allowed interval (0.005000 s)\n",
      "INFO:root:Could not redetermine threshold-peak pair - dropping that pair\n",
      "INFO:root:Need to recalculate threshold-peak pair that exceeds maximum allowed interval (0.005000 s)\n",
      "INFO:root:Need to recalculate threshold-peak pair that exceeds maximum allowed interval (0.005000 s)\n",
      "INFO:root:Could not redetermine threshold-peak pair - dropping that pair\n",
      "INFO:root:Need to recalculate threshold-peak pair that exceeds maximum allowed interval (0.005000 s)\n",
      "INFO:root:Could not redetermine threshold-peak pair - dropping that pair\n"
     ]
    },
    {
     "name": "stdout",
     "output_type": "stream",
     "text": [
      "15127106.abf\n"
     ]
    },
    {
     "name": "stderr",
     "output_type": "stream",
     "text": [
      "INFO:root:Need to recalculate threshold-peak pair that exceeds maximum allowed interval (0.005000 s)\n",
      "INFO:root:Could not redetermine threshold-peak pair - dropping that pair\n",
      "INFO:root:Need to recalculate threshold-peak pair that exceeds maximum allowed interval (0.005000 s)\n",
      "INFO:root:Could not redetermine threshold-peak pair - dropping that pair\n"
     ]
    },
    {
     "name": "stdout",
     "output_type": "stream",
     "text": [
      "15224000.abf\n",
      "15224059.abf\n",
      "15302001.abf\n",
      "15312105.abf\n",
      "15312053.abf\n"
     ]
    },
    {
     "name": "stderr",
     "output_type": "stream",
     "text": [
      "INFO:root:Need to recalculate threshold-peak pair that exceeds maximum allowed interval (0.005000 s)\n",
      "INFO:root:Could not redetermine threshold-peak pair - dropping that pair\n"
     ]
    },
    {
     "name": "stdout",
     "output_type": "stream",
     "text": [
      "15312031.abf\n"
     ]
    },
    {
     "name": "stderr",
     "output_type": "stream",
     "text": [
      "INFO:root:Need to recalculate threshold-peak pair that exceeds maximum allowed interval (0.005000 s)\n",
      "INFO:root:Could not redetermine threshold-peak pair - dropping that pair\n",
      "INFO:root:Need to recalculate threshold-peak pair that exceeds maximum allowed interval (0.005000 s)\n",
      "INFO:root:Could not redetermine threshold-peak pair - dropping that pair\n"
     ]
    },
    {
     "name": "stdout",
     "output_type": "stream",
     "text": [
      "15312132.abf\n",
      "15312000.abf\n"
     ]
    },
    {
     "name": "stderr",
     "output_type": "stream",
     "text": [
      "INFO:root:Need to recalculate threshold-peak pair that exceeds maximum allowed interval (0.005000 s)\n",
      "INFO:root:Could not redetermine threshold-peak pair - dropping that pair\n"
     ]
    },
    {
     "name": "stdout",
     "output_type": "stream",
     "text": [
      "15330053.abf\n",
      "15330000.abf\n",
      "15407000.abf\n"
     ]
    },
    {
     "name": "stderr",
     "output_type": "stream",
     "text": [
      "INFO:root:Need to recalculate threshold-peak pair that exceeds maximum allowed interval (0.005000 s)\n",
      "INFO:root:Could not redetermine threshold-peak pair - dropping that pair\n"
     ]
    },
    {
     "name": "stdout",
     "output_type": "stream",
     "text": [
      "15420026.abf\n"
     ]
    },
    {
     "name": "stderr",
     "output_type": "stream",
     "text": [
      "INFO:root:Need to recalculate threshold-peak pair that exceeds maximum allowed interval (0.005000 s)\n",
      "INFO:root:Could not redetermine threshold-peak pair - dropping that pair\n",
      "INFO:root:Need to recalculate threshold-peak pair that exceeds maximum allowed interval (0.005000 s)\n",
      "INFO:root:Could not redetermine threshold-peak pair - dropping that pair\n",
      "INFO:root:Need to recalculate threshold-peak pair that exceeds maximum allowed interval (0.005000 s)\n",
      "INFO:root:Could not redetermine threshold-peak pair - dropping that pair\n"
     ]
    },
    {
     "name": "stdout",
     "output_type": "stream",
     "text": [
      "15420000.abf\n",
      "15616035.abf\n",
      "15616008.abf\n"
     ]
    },
    {
     "name": "stderr",
     "output_type": "stream",
     "text": [
      "INFO:root:Need to recalculate threshold-peak pair that exceeds maximum allowed interval (0.005000 s)\n",
      "INFO:root:Could not redetermine threshold-peak pair - dropping that pair\n",
      "INFO:root:Need to recalculate threshold-peak pair that exceeds maximum allowed interval (0.005000 s)\n",
      "INFO:root:Could not redetermine threshold-peak pair - dropping that pair\n",
      "INFO:root:Need to recalculate threshold-peak pair that exceeds maximum allowed interval (0.005000 s)\n",
      "INFO:root:Could not redetermine threshold-peak pair - dropping that pair\n",
      "INFO:root:Need to recalculate threshold-peak pair that exceeds maximum allowed interval (0.005000 s)\n",
      "INFO:root:Could not redetermine threshold-peak pair - dropping that pair\n",
      "INFO:root:Need to recalculate threshold-peak pair that exceeds maximum allowed interval (0.005000 s)\n",
      "INFO:root:Could not redetermine threshold-peak pair - dropping that pair\n",
      "INFO:root:Need to recalculate threshold-peak pair that exceeds maximum allowed interval (0.005000 s)\n",
      "INFO:root:Could not redetermine threshold-peak pair - dropping that pair\n",
      "INFO:root:Need to recalculate threshold-peak pair that exceeds maximum allowed interval (0.005000 s)\n",
      "INFO:root:Could not redetermine threshold-peak pair - dropping that pair\n",
      "INFO:root:Need to recalculate threshold-peak pair that exceeds maximum allowed interval (0.005000 s)\n",
      "INFO:root:Could not redetermine threshold-peak pair - dropping that pair\n"
     ]
    },
    {
     "name": "stdout",
     "output_type": "stream",
     "text": [
      "15616022.abf\n"
     ]
    },
    {
     "name": "stderr",
     "output_type": "stream",
     "text": [
      "INFO:root:Need to recalculate threshold-peak pair that exceeds maximum allowed interval (0.005000 s)\n",
      "INFO:root:Could not redetermine threshold-peak pair - dropping that pair\n",
      "INFO:root:Need to recalculate threshold-peak pair that exceeds maximum allowed interval (0.005000 s)\n",
      "INFO:root:Could not redetermine threshold-peak pair - dropping that pair\n",
      "INFO:root:Need to recalculate threshold-peak pair that exceeds maximum allowed interval (0.005000 s)\n",
      "INFO:root:Need to recalculate threshold-peak pair that exceeds maximum allowed interval (0.005000 s)\n",
      "INFO:root:Could not redetermine threshold-peak pair - dropping that pair\n",
      "INFO:root:Could not redetermine threshold-peak pair - dropping that pair\n",
      "INFO:root:Need to recalculate threshold-peak pair that exceeds maximum allowed interval (0.005000 s)\n",
      "INFO:root:Need to recalculate threshold-peak pair that exceeds maximum allowed interval (0.005000 s)\n",
      "INFO:root:Need to recalculate threshold-peak pair that exceeds maximum allowed interval (0.005000 s)\n",
      "INFO:root:Need to recalculate threshold-peak pair that exceeds maximum allowed interval (0.005000 s)\n",
      "INFO:root:Could not redetermine threshold-peak pair - dropping that pair\n",
      "INFO:root:Could not redetermine threshold-peak pair - dropping that pair\n",
      "INFO:root:Could not redetermine threshold-peak pair - dropping that pair\n",
      "INFO:root:Could not redetermine threshold-peak pair - dropping that pair\n",
      "INFO:root:Need to recalculate threshold-peak pair that exceeds maximum allowed interval (0.005000 s)\n",
      "INFO:root:Need to recalculate threshold-peak pair that exceeds maximum allowed interval (0.005000 s)\n",
      "INFO:root:Need to recalculate threshold-peak pair that exceeds maximum allowed interval (0.005000 s)\n",
      "INFO:root:Could not redetermine threshold-peak pair - dropping that pair\n",
      "INFO:root:Could not redetermine threshold-peak pair - dropping that pair\n",
      "INFO:root:Could not redetermine threshold-peak pair - dropping that pair\n",
      "INFO:root:Need to recalculate threshold-peak pair that exceeds maximum allowed interval (0.005000 s)\n",
      "INFO:root:Need to recalculate threshold-peak pair that exceeds maximum allowed interval (0.005000 s)\n",
      "INFO:root:Need to recalculate threshold-peak pair that exceeds maximum allowed interval (0.005000 s)\n",
      "INFO:root:Could not redetermine threshold-peak pair - dropping that pair\n",
      "INFO:root:Could not redetermine threshold-peak pair - dropping that pair\n",
      "INFO:root:Could not redetermine threshold-peak pair - dropping that pair\n",
      "INFO:root:Need to recalculate threshold-peak pair that exceeds maximum allowed interval (0.005000 s)\n",
      "INFO:root:Need to recalculate threshold-peak pair that exceeds maximum allowed interval (0.005000 s)\n",
      "INFO:root:Could not redetermine threshold-peak pair - dropping that pair\n",
      "INFO:root:Could not redetermine threshold-peak pair - dropping that pair\n",
      "INFO:root:Need to recalculate threshold-peak pair that exceeds maximum allowed interval (0.005000 s)\n",
      "INFO:root:Need to recalculate threshold-peak pair that exceeds maximum allowed interval (0.005000 s)\n",
      "INFO:root:Need to recalculate threshold-peak pair that exceeds maximum allowed interval (0.005000 s)\n",
      "INFO:root:Could not redetermine threshold-peak pair - dropping that pair\n",
      "INFO:root:Could not redetermine threshold-peak pair - dropping that pair\n",
      "INFO:root:Could not redetermine threshold-peak pair - dropping that pair\n"
     ]
    },
    {
     "name": "stdout",
     "output_type": "stream",
     "text": [
      "15618005.abf\n"
     ]
    },
    {
     "name": "stderr",
     "output_type": "stream",
     "text": [
      "INFO:root:Need to recalculate threshold-peak pair that exceeds maximum allowed interval (0.005000 s)\n",
      "INFO:root:Need to recalculate threshold-peak pair that exceeds maximum allowed interval (0.005000 s)\n",
      "INFO:root:Could not redetermine threshold-peak pair - dropping that pair\n",
      "INFO:root:Could not redetermine threshold-peak pair - dropping that pair\n",
      "INFO:root:Need to recalculate threshold-peak pair that exceeds maximum allowed interval (0.005000 s)\n",
      "INFO:root:Could not redetermine threshold-peak pair - dropping that pair\n",
      "INFO:root:Need to recalculate threshold-peak pair that exceeds maximum allowed interval (0.005000 s)\n",
      "INFO:root:Need to recalculate threshold-peak pair that exceeds maximum allowed interval (0.005000 s)\n",
      "INFO:root:Need to recalculate threshold-peak pair that exceeds maximum allowed interval (0.005000 s)\n",
      "INFO:root:Could not redetermine threshold-peak pair - dropping that pair\n",
      "INFO:root:Could not redetermine threshold-peak pair - dropping that pair\n",
      "INFO:root:Could not redetermine threshold-peak pair - dropping that pair\n",
      "INFO:root:Need to recalculate threshold-peak pair that exceeds maximum allowed interval (0.005000 s)\n",
      "INFO:root:Need to recalculate threshold-peak pair that exceeds maximum allowed interval (0.005000 s)\n",
      "INFO:root:Need to recalculate threshold-peak pair that exceeds maximum allowed interval (0.005000 s)\n",
      "INFO:root:Could not redetermine threshold-peak pair - dropping that pair\n",
      "INFO:root:Could not redetermine threshold-peak pair - dropping that pair\n",
      "INFO:root:Could not redetermine threshold-peak pair - dropping that pair\n",
      "INFO:root:Need to recalculate threshold-peak pair that exceeds maximum allowed interval (0.005000 s)\n",
      "INFO:root:Need to recalculate threshold-peak pair that exceeds maximum allowed interval (0.005000 s)\n",
      "INFO:root:Need to recalculate threshold-peak pair that exceeds maximum allowed interval (0.005000 s)\n",
      "INFO:root:Could not redetermine threshold-peak pair - dropping that pair\n",
      "INFO:root:Could not redetermine threshold-peak pair - dropping that pair\n",
      "INFO:root:Need to recalculate threshold-peak pair that exceeds maximum allowed interval (0.005000 s)\n",
      "INFO:root:Need to recalculate threshold-peak pair that exceeds maximum allowed interval (0.005000 s)\n",
      "INFO:root:Need to recalculate threshold-peak pair that exceeds maximum allowed interval (0.005000 s)\n",
      "INFO:root:Could not redetermine threshold-peak pair - dropping that pair\n",
      "INFO:root:Could not redetermine threshold-peak pair - dropping that pair\n",
      "INFO:root:Could not redetermine threshold-peak pair - dropping that pair\n"
     ]
    },
    {
     "name": "stdout",
     "output_type": "stream",
     "text": [
      "15622024.abf\n"
     ]
    },
    {
     "name": "stderr",
     "output_type": "stream",
     "text": [
      "INFO:root:Need to recalculate threshold-peak pair that exceeds maximum allowed interval (0.005000 s)\n",
      "INFO:root:Could not redetermine threshold-peak pair - dropping that pair\n",
      "INFO:root:Need to recalculate threshold-peak pair that exceeds maximum allowed interval (0.005000 s)\n",
      "INFO:root:Could not redetermine threshold-peak pair - dropping that pair\n",
      "INFO:root:Need to recalculate threshold-peak pair that exceeds maximum allowed interval (0.005000 s)\n",
      "INFO:root:Need to recalculate threshold-peak pair that exceeds maximum allowed interval (0.005000 s)\n",
      "INFO:root:Could not redetermine threshold-peak pair - dropping that pair\n",
      "INFO:root:Could not redetermine threshold-peak pair - dropping that pair\n",
      "INFO:root:Need to recalculate threshold-peak pair that exceeds maximum allowed interval (0.005000 s)\n",
      "INFO:root:Could not redetermine threshold-peak pair - dropping that pair\n",
      "INFO:root:Need to recalculate threshold-peak pair that exceeds maximum allowed interval (0.005000 s)\n",
      "INFO:root:Need to recalculate threshold-peak pair that exceeds maximum allowed interval (0.005000 s)\n",
      "INFO:root:Could not redetermine threshold-peak pair - dropping that pair\n",
      "INFO:root:Need to recalculate threshold-peak pair that exceeds maximum allowed interval (0.005000 s)\n",
      "INFO:root:Need to recalculate threshold-peak pair that exceeds maximum allowed interval (0.005000 s)\n",
      "INFO:root:Need to recalculate threshold-peak pair that exceeds maximum allowed interval (0.005000 s)\n",
      "INFO:root:Could not redetermine threshold-peak pair - dropping that pair\n",
      "INFO:root:Could not redetermine threshold-peak pair - dropping that pair\n",
      "INFO:root:Need to recalculate threshold-peak pair that exceeds maximum allowed interval (0.005000 s)\n",
      "INFO:root:Need to recalculate threshold-peak pair that exceeds maximum allowed interval (0.005000 s)\n",
      "INFO:root:Need to recalculate threshold-peak pair that exceeds maximum allowed interval (0.005000 s)\n",
      "INFO:root:Could not redetermine threshold-peak pair - dropping that pair\n",
      "INFO:root:Could not redetermine threshold-peak pair - dropping that pair\n",
      "INFO:root:Need to recalculate threshold-peak pair that exceeds maximum allowed interval (0.005000 s)\n",
      "INFO:root:Need to recalculate threshold-peak pair that exceeds maximum allowed interval (0.005000 s)\n",
      "INFO:root:Could not redetermine threshold-peak pair - dropping that pair\n",
      "INFO:root:Could not redetermine threshold-peak pair - dropping that pair\n",
      "INFO:root:Need to recalculate threshold-peak pair that exceeds maximum allowed interval (0.005000 s)\n",
      "INFO:root:Need to recalculate threshold-peak pair that exceeds maximum allowed interval (0.005000 s)\n",
      "INFO:root:Need to recalculate threshold-peak pair that exceeds maximum allowed interval (0.005000 s)\n",
      "INFO:root:Could not redetermine threshold-peak pair - dropping that pair\n",
      "INFO:root:Could not redetermine threshold-peak pair - dropping that pair\n"
     ]
    },
    {
     "name": "stdout",
     "output_type": "stream",
     "text": [
      "15622019.abf\n",
      "failing...\n",
      "15622013.abf\n",
      "15622005.abf\n",
      "15622000.abf\n",
      "15622015.abf\n",
      "15723013.abf\n"
     ]
    },
    {
     "name": "stderr",
     "output_type": "stream",
     "text": [
      "INFO:root:Need to recalculate threshold-peak pair that exceeds maximum allowed interval (0.005000 s)\n",
      "INFO:root:Could not redetermine threshold-peak pair - dropping that pair\n"
     ]
    },
    {
     "name": "stdout",
     "output_type": "stream",
     "text": [
      "15820003.abf\n",
      "15o08007.abf\n"
     ]
    },
    {
     "name": "stderr",
     "output_type": "stream",
     "text": [
      "INFO:root:Need to recalculate threshold-peak pair that exceeds maximum allowed interval (0.005000 s)\n",
      "INFO:root:Could not redetermine threshold-peak pair - dropping that pair\n",
      "INFO:root:Need to recalculate threshold-peak pair that exceeds maximum allowed interval (0.005000 s)\n",
      "INFO:root:Need to recalculate threshold-peak pair that exceeds maximum allowed interval (0.005000 s)\n",
      "INFO:root:Could not redetermine threshold-peak pair - dropping that pair\n",
      "INFO:root:Could not redetermine threshold-peak pair - dropping that pair\n"
     ]
    },
    {
     "name": "stdout",
     "output_type": "stream",
     "text": [
      "15o08011.abf\n"
     ]
    },
    {
     "name": "stderr",
     "output_type": "stream",
     "text": [
      "INFO:root:Need to recalculate threshold-peak pair that exceeds maximum allowed interval (0.005000 s)\n",
      "INFO:root:Could not redetermine threshold-peak pair - dropping that pair\n",
      "INFO:root:Need to recalculate threshold-peak pair that exceeds maximum allowed interval (0.005000 s)\n",
      "INFO:root:Could not redetermine threshold-peak pair - dropping that pair\n",
      "INFO:root:Need to recalculate threshold-peak pair that exceeds maximum allowed interval (0.005000 s)\n",
      "INFO:root:Could not redetermine threshold-peak pair - dropping that pair\n"
     ]
    },
    {
     "name": "stdout",
     "output_type": "stream",
     "text": [
      "15o08017.abf\n",
      "15o08002.abf\n",
      "15o08020.abf\n",
      "15o08022.abf\n",
      "15o08032.abf\n"
     ]
    },
    {
     "name": "stderr",
     "output_type": "stream",
     "text": [
      "INFO:root:Need to recalculate threshold-peak pair that exceeds maximum allowed interval (0.005000 s)\n",
      "INFO:root:Could not redetermine threshold-peak pair - dropping that pair\n",
      "INFO:root:Need to recalculate threshold-peak pair that exceeds maximum allowed interval (0.005000 s)\n",
      "INFO:root:Could not redetermine threshold-peak pair - dropping that pair\n"
     ]
    },
    {
     "name": "stdout",
     "output_type": "stream",
     "text": [
      "15o08038.abf\n"
     ]
    },
    {
     "name": "stderr",
     "output_type": "stream",
     "text": [
      "INFO:root:Need to recalculate threshold-peak pair that exceeds maximum allowed interval (0.005000 s)\n",
      "INFO:root:Could not redetermine threshold-peak pair - dropping that pair\n",
      "INFO:root:Need to recalculate threshold-peak pair that exceeds maximum allowed interval (0.005000 s)\n",
      "INFO:root:Could not redetermine threshold-peak pair - dropping that pair\n"
     ]
    },
    {
     "name": "stdout",
     "output_type": "stream",
     "text": [
      "2015_11_09_0106.abf\n",
      "2015_11_09_0107.abf\n"
     ]
    },
    {
     "name": "stderr",
     "output_type": "stream",
     "text": [
      "INFO:root:Need to recalculate threshold-peak pair that exceeds maximum allowed interval (0.005000 s)\n",
      "INFO:root:Could not redetermine threshold-peak pair - dropping that pair\n",
      "INFO:root:Need to recalculate threshold-peak pair that exceeds maximum allowed interval (0.005000 s)\n",
      "INFO:root:Could not redetermine threshold-peak pair - dropping that pair\n",
      "INFO:root:Need to recalculate threshold-peak pair that exceeds maximum allowed interval (0.005000 s)\n",
      "INFO:root:Could not redetermine threshold-peak pair - dropping that pair\n",
      "INFO:root:Need to recalculate threshold-peak pair that exceeds maximum allowed interval (0.005000 s)\n"
     ]
    },
    {
     "name": "stdout",
     "output_type": "stream",
     "text": [
      "2015_11_09_0003.abf\n",
      "2015_11_09_0017.abf\n",
      "2015_11_09_0053.abf\n"
     ]
    },
    {
     "name": "stderr",
     "output_type": "stream",
     "text": [
      "INFO:root:Need to recalculate threshold-peak pair that exceeds maximum allowed interval (0.005000 s)\n"
     ]
    },
    {
     "name": "stdout",
     "output_type": "stream",
     "text": [
      "2015_11_09_0085.abf\n",
      "2015_11_09_0078.abf\n",
      "2016_01_28_0012.abf\n"
     ]
    },
    {
     "name": "stderr",
     "output_type": "stream",
     "text": [
      "INFO:root:Need to recalculate threshold-peak pair that exceeds maximum allowed interval (0.005000 s)\n",
      "INFO:root:Could not redetermine threshold-peak pair - dropping that pair\n",
      "INFO:root:Need to recalculate threshold-peak pair that exceeds maximum allowed interval (0.005000 s)\n"
     ]
    },
    {
     "name": "stdout",
     "output_type": "stream",
     "text": [
      "2016_01_28_0019.abf\n",
      "2016_01_28_0004.abf\n"
     ]
    },
    {
     "name": "stderr",
     "output_type": "stream",
     "text": [
      "INFO:root:Need to recalculate threshold-peak pair that exceeds maximum allowed interval (0.005000 s)\n",
      "INFO:root:Need to recalculate threshold-peak pair that exceeds maximum allowed interval (0.005000 s)\n",
      "INFO:root:Could not redetermine threshold-peak pair - dropping that pair\n",
      "INFO:root:Need to recalculate threshold-peak pair that exceeds maximum allowed interval (0.005000 s)\n",
      "INFO:root:Could not redetermine threshold-peak pair - dropping that pair\n"
     ]
    },
    {
     "name": "stdout",
     "output_type": "stream",
     "text": [
      "2016_02_04_0018.abf\n",
      "2016_02_04_0009.abf\n"
     ]
    },
    {
     "name": "stderr",
     "output_type": "stream",
     "text": [
      "INFO:root:Need to recalculate threshold-peak pair that exceeds maximum allowed interval (0.005000 s)\n",
      "INFO:root:Need to recalculate threshold-peak pair that exceeds maximum allowed interval (0.005000 s)\n",
      "INFO:root:Could not redetermine threshold-peak pair - dropping that pair\n",
      "INFO:root:Could not redetermine threshold-peak pair - dropping that pair\n"
     ]
    },
    {
     "name": "stdout",
     "output_type": "stream",
     "text": [
      "2016_02_04_0015.abf\n",
      "2016_02_04_0021.abf\n",
      "2016_02_04_0029.abf\n"
     ]
    },
    {
     "name": "stderr",
     "output_type": "stream",
     "text": [
      "INFO:root:Need to recalculate threshold-peak pair that exceeds maximum allowed interval (0.005000 s)\n",
      "INFO:root:Could not redetermine threshold-peak pair - dropping that pair\n",
      "INFO:root:Need to recalculate threshold-peak pair that exceeds maximum allowed interval (0.005000 s)\n",
      "INFO:root:Need to recalculate threshold-peak pair that exceeds maximum allowed interval (0.005000 s)\n",
      "INFO:root:Need to recalculate threshold-peak pair that exceeds maximum allowed interval (0.005000 s)\n",
      "INFO:root:Need to recalculate threshold-peak pair that exceeds maximum allowed interval (0.005000 s)\n",
      "INFO:root:Need to recalculate threshold-peak pair that exceeds maximum allowed interval (0.005000 s)\n",
      "INFO:root:Could not redetermine threshold-peak pair - dropping that pair\n",
      "INFO:root:Could not redetermine threshold-peak pair - dropping that pair\n",
      "INFO:root:Could not redetermine threshold-peak pair - dropping that pair\n",
      "INFO:root:Could not redetermine threshold-peak pair - dropping that pair\n",
      "INFO:root:Could not redetermine threshold-peak pair - dropping that pair\n"
     ]
    },
    {
     "name": "stdout",
     "output_type": "stream",
     "text": [
      "2016_02_04_0033.abf\n"
     ]
    },
    {
     "name": "stderr",
     "output_type": "stream",
     "text": [
      "INFO:root:Need to recalculate threshold-peak pair that exceeds maximum allowed interval (0.005000 s)\n",
      "INFO:root:Could not redetermine threshold-peak pair - dropping that pair\n"
     ]
    },
    {
     "name": "stdout",
     "output_type": "stream",
     "text": [
      "2016_02_04_0042.abf\n"
     ]
    },
    {
     "name": "stderr",
     "output_type": "stream",
     "text": [
      "INFO:root:Need to recalculate threshold-peak pair that exceeds maximum allowed interval (0.005000 s)\n",
      "INFO:root:Could not redetermine threshold-peak pair - dropping that pair\n",
      "INFO:root:Need to recalculate threshold-peak pair that exceeds maximum allowed interval (0.005000 s)\n",
      "INFO:root:Need to recalculate threshold-peak pair that exceeds maximum allowed interval (0.005000 s)\n",
      "INFO:root:Need to recalculate threshold-peak pair that exceeds maximum allowed interval (0.005000 s)\n",
      "INFO:root:Need to recalculate threshold-peak pair that exceeds maximum allowed interval (0.005000 s)\n",
      "INFO:root:Need to recalculate threshold-peak pair that exceeds maximum allowed interval (0.005000 s)\n",
      "INFO:root:Need to recalculate threshold-peak pair that exceeds maximum allowed interval (0.005000 s)\n",
      "INFO:root:Could not redetermine threshold-peak pair - dropping that pair\n",
      "INFO:root:Could not redetermine threshold-peak pair - dropping that pair\n",
      "INFO:root:Could not redetermine threshold-peak pair - dropping that pair\n",
      "INFO:root:Could not redetermine threshold-peak pair - dropping that pair\n",
      "INFO:root:Could not redetermine threshold-peak pair - dropping that pair\n",
      "INFO:root:Need to recalculate threshold-peak pair that exceeds maximum allowed interval (0.005000 s)\n",
      "INFO:root:Need to recalculate threshold-peak pair that exceeds maximum allowed interval (0.005000 s)\n",
      "INFO:root:Need to recalculate threshold-peak pair that exceeds maximum allowed interval (0.005000 s)\n",
      "INFO:root:Need to recalculate threshold-peak pair that exceeds maximum allowed interval (0.005000 s)\n",
      "INFO:root:Could not redetermine threshold-peak pair - dropping that pair\n",
      "INFO:root:Could not redetermine threshold-peak pair - dropping that pair\n",
      "INFO:root:Could not redetermine threshold-peak pair - dropping that pair\n"
     ]
    },
    {
     "name": "stdout",
     "output_type": "stream",
     "text": [
      "2016_02_04_0045.abf\n",
      "2016_02_25_0255.abf\n"
     ]
    },
    {
     "name": "stderr",
     "output_type": "stream",
     "text": [
      "INFO:root:Need to recalculate threshold-peak pair that exceeds maximum allowed interval (0.005000 s)\n",
      "INFO:root:Could not redetermine threshold-peak pair - dropping that pair\n",
      "INFO:root:Need to recalculate threshold-peak pair that exceeds maximum allowed interval (0.005000 s)\n",
      "INFO:root:Could not redetermine threshold-peak pair - dropping that pair\n",
      "INFO:root:Need to recalculate threshold-peak pair that exceeds maximum allowed interval (0.005000 s)\n",
      "INFO:root:Could not redetermine threshold-peak pair - dropping that pair\n",
      "INFO:root:Need to recalculate threshold-peak pair that exceeds maximum allowed interval (0.005000 s)\n"
     ]
    },
    {
     "name": "stdout",
     "output_type": "stream",
     "text": [
      "2016_02_25_0134.abf\n"
     ]
    },
    {
     "name": "stderr",
     "output_type": "stream",
     "text": [
      "INFO:root:Need to recalculate threshold-peak pair that exceeds maximum allowed interval (0.005000 s)\n",
      "INFO:root:Need to recalculate threshold-peak pair that exceeds maximum allowed interval (0.005000 s)\n",
      "INFO:root:Could not redetermine threshold-peak pair - dropping that pair\n"
     ]
    },
    {
     "name": "stdout",
     "output_type": "stream",
     "text": [
      "2016_02_25_0005.abf\n",
      "2016_02_25_0007.abf\n",
      "2016_02_25_0073.abf\n"
     ]
    },
    {
     "name": "stderr",
     "output_type": "stream",
     "text": [
      "INFO:root:Need to recalculate threshold-peak pair that exceeds maximum allowed interval (0.005000 s)\n",
      "INFO:root:Could not redetermine threshold-peak pair - dropping that pair\n",
      "INFO:root:Need to recalculate threshold-peak pair that exceeds maximum allowed interval (0.005000 s)\n",
      "INFO:root:Need to recalculate threshold-peak pair that exceeds maximum allowed interval (0.005000 s)\n",
      "INFO:root:Need to recalculate threshold-peak pair that exceeds maximum allowed interval (0.005000 s)\n",
      "INFO:root:Could not redetermine threshold-peak pair - dropping that pair\n",
      "INFO:root:Could not redetermine threshold-peak pair - dropping that pair\n"
     ]
    },
    {
     "name": "stdout",
     "output_type": "stream",
     "text": [
      "2016_02_25_0082.abf\n",
      "2016_02_29_0065.abf\n"
     ]
    },
    {
     "name": "stderr",
     "output_type": "stream",
     "text": [
      "INFO:root:Need to recalculate threshold-peak pair that exceeds maximum allowed interval (0.005000 s)\n",
      "INFO:root:Could not redetermine threshold-peak pair - dropping that pair\n",
      "INFO:root:Need to recalculate threshold-peak pair that exceeds maximum allowed interval (0.005000 s)\n",
      "INFO:root:Could not redetermine threshold-peak pair - dropping that pair\n",
      "INFO:root:Need to recalculate threshold-peak pair that exceeds maximum allowed interval (0.005000 s)\n",
      "INFO:root:Could not redetermine threshold-peak pair - dropping that pair\n",
      "INFO:root:Need to recalculate threshold-peak pair that exceeds maximum allowed interval (0.005000 s)\n",
      "INFO:root:Could not redetermine threshold-peak pair - dropping that pair\n"
     ]
    },
    {
     "name": "stdout",
     "output_type": "stream",
     "text": [
      "2016_02_29_0032.abf\n"
     ]
    },
    {
     "name": "stderr",
     "output_type": "stream",
     "text": [
      "INFO:root:Need to recalculate threshold-peak pair that exceeds maximum allowed interval (0.005000 s)\n",
      "INFO:root:Need to recalculate threshold-peak pair that exceeds maximum allowed interval (0.005000 s)\n",
      "INFO:root:Need to recalculate threshold-peak pair that exceeds maximum allowed interval (0.005000 s)\n"
     ]
    },
    {
     "name": "stdout",
     "output_type": "stream",
     "text": [
      "2016_03_01_0047.abf\n",
      "2016_03_01_0000.abf\n",
      "2016_03_03_0054.abf\n"
     ]
    },
    {
     "name": "stderr",
     "output_type": "stream",
     "text": [
      "INFO:root:Need to recalculate threshold-peak pair that exceeds maximum allowed interval (0.005000 s)\n",
      "INFO:root:Could not redetermine threshold-peak pair - dropping that pair\n",
      "INFO:root:Need to recalculate threshold-peak pair that exceeds maximum allowed interval (0.005000 s)\n",
      "INFO:root:Could not redetermine threshold-peak pair - dropping that pair\n",
      "INFO:root:Need to recalculate threshold-peak pair that exceeds maximum allowed interval (0.005000 s)\n",
      "INFO:root:Could not redetermine threshold-peak pair - dropping that pair\n"
     ]
    },
    {
     "name": "stdout",
     "output_type": "stream",
     "text": [
      "2016_03_03_0100.abf\n"
     ]
    },
    {
     "name": "stderr",
     "output_type": "stream",
     "text": [
      "INFO:root:Need to recalculate threshold-peak pair that exceeds maximum allowed interval (0.005000 s)\n",
      "INFO:root:Could not redetermine threshold-peak pair - dropping that pair\n",
      "INFO:root:Need to recalculate threshold-peak pair that exceeds maximum allowed interval (0.005000 s)\n",
      "INFO:root:Could not redetermine threshold-peak pair - dropping that pair\n"
     ]
    },
    {
     "name": "stdout",
     "output_type": "stream",
     "text": [
      "2016_03_03_0103.abf\n"
     ]
    },
    {
     "name": "stderr",
     "output_type": "stream",
     "text": [
      "INFO:root:Need to recalculate threshold-peak pair that exceeds maximum allowed interval (0.005000 s)\n",
      "INFO:root:Could not redetermine threshold-peak pair - dropping that pair\n"
     ]
    },
    {
     "name": "stdout",
     "output_type": "stream",
     "text": [
      "2016_03_03_0002.abf\n",
      "2019_11_04_0113.abf\n",
      "2019_11_26_0094.abf\n",
      "2019_11_26_0110.abf\n"
     ]
    },
    {
     "name": "stderr",
     "output_type": "stream",
     "text": [
      "INFO:root:Need to recalculate threshold-peak pair that exceeds maximum allowed interval (0.005000 s)\n"
     ]
    },
    {
     "name": "stdout",
     "output_type": "stream",
     "text": [
      "2019_11_26_0006.abf\n"
     ]
    },
    {
     "name": "stderr",
     "output_type": "stream",
     "text": [
      "INFO:root:Need to recalculate threshold-peak pair that exceeds maximum allowed interval (0.005000 s)\n",
      "INFO:root:Need to recalculate threshold-peak pair that exceeds maximum allowed interval (0.005000 s)\n",
      "INFO:root:Could not redetermine threshold-peak pair - dropping that pair\n",
      "INFO:root:Need to recalculate threshold-peak pair that exceeds maximum allowed interval (0.005000 s)\n",
      "INFO:root:Could not redetermine threshold-peak pair - dropping that pair\n"
     ]
    },
    {
     "name": "stdout",
     "output_type": "stream",
     "text": [
      "2019_11_28_0093.abf\n",
      "2019_11_28_0079.abf\n",
      "2019_11_28_0119.abf\n",
      "2020_01_06_0095.abf\n",
      "2020_01_06_0090.abf\n",
      "2020_01_06_0082.abf\n",
      "2020_01_06_0063.abf\n",
      "2020_01_06_0048.abf\n",
      "2020_01_06_0017.abf\n",
      "2020_01_27_0002.abf\n",
      "2020_01_27_0008.abf\n"
     ]
    },
    {
     "name": "stderr",
     "output_type": "stream",
     "text": [
      "INFO:root:Need to recalculate threshold-peak pair that exceeds maximum allowed interval (0.005000 s)\n",
      "INFO:root:Need to recalculate threshold-peak pair that exceeds maximum allowed interval (0.005000 s)\n",
      "INFO:root:Could not redetermine threshold-peak pair - dropping that pair\n"
     ]
    },
    {
     "name": "stdout",
     "output_type": "stream",
     "text": [
      "2020_01_27_0042.abf\n"
     ]
    },
    {
     "name": "stderr",
     "output_type": "stream",
     "text": [
      "INFO:root:Need to recalculate threshold-peak pair that exceeds maximum allowed interval (0.005000 s)\n"
     ]
    },
    {
     "name": "stdout",
     "output_type": "stream",
     "text": [
      "2020_01_27_0038.abf\n",
      "2020_01_28_0008.abf\n",
      "2020_01_28_0017.abf\n"
     ]
    },
    {
     "name": "stderr",
     "output_type": "stream",
     "text": [
      "INFO:root:Need to recalculate threshold-peak pair that exceeds maximum allowed interval (0.005000 s)\n",
      "INFO:root:Could not redetermine threshold-peak pair - dropping that pair\n",
      "INFO:root:Need to recalculate threshold-peak pair that exceeds maximum allowed interval (0.005000 s)\n",
      "INFO:root:Could not redetermine threshold-peak pair - dropping that pair\n"
     ]
    },
    {
     "name": "stdout",
     "output_type": "stream",
     "text": [
      "2020_01_28_0029.abf\n",
      "2020_03_02_0023.abf\n"
     ]
    }
   ],
   "source": [
    "import warnings\n",
    "warnings.filterwarnings('ignore')\n",
    "from ipfx.error import FeatureError\n",
    "\n",
    "use_meta_df = cell_final_raw_meta_df.query('valid_stim == True')\n",
    "for abf_file_name in use_meta_df.cell_id:\n",
    "    (sweep_set, start_time, end_time) = cell_id_to_sweep_set(abf_file_name, meta_info_df = cell_final_raw_meta_df)\n",
    "    try:\n",
    "        lsa_results = get_lsa_results(sweep_set, start_time, end_time)\n",
    "    except FeatureError:\n",
    "        print(abf_file_name)\n",
    "        print('failing...')\n",
    "        continue\n",
    "    "
   ]
  },
  {
   "cell_type": "code",
   "execution_count": 13,
   "metadata": {},
   "outputs": [
    {
     "data": {
      "text/plain": [
       "dict_keys(['spikes_set', 'sweeps', 'v_baseline', 'rheobase_i', 'rheobase_sweep', 'spiking_sweeps', 'fi_fit_slope', 'hero_sweep', 'sag', 'vm_for_sag', 'subthreshold_sweeps', 'subthreshold_membrane_property_sweeps', 'input_resistance', 'tau'])"
      ]
     },
     "execution_count": 13,
     "metadata": {},
     "output_type": "execute_result"
    }
   ],
   "source": [
    "lsa_results.keys()"
   ]
  },
  {
   "cell_type": "code",
   "execution_count": 19,
   "metadata": {},
   "outputs": [
    {
     "ename": "AttributeError",
     "evalue": "'numpy.float64' object has no attribute 'name'",
     "output_type": "error",
     "traceback": [
      "\u001b[0;31m---------------------------------------------------------------------------\u001b[0m",
      "\u001b[0;31mAttributeError\u001b[0m                            Traceback (most recent call last)",
      "\u001b[0;32m<ipython-input-19-af54ab4ff590>\u001b[0m in \u001b[0;36m<module>\u001b[0;34m\u001b[0m\n\u001b[0;32m----> 1\u001b[0;31m \u001b[0mhero_sweep_ind\u001b[0m \u001b[0;34m=\u001b[0m \u001b[0mlsa_results\u001b[0m\u001b[0;34m[\u001b[0m\u001b[0;34m'input_resistance'\u001b[0m\u001b[0;34m]\u001b[0m\u001b[0;34m.\u001b[0m\u001b[0mname\u001b[0m\u001b[0;34m\u001b[0m\u001b[0;34m\u001b[0m\u001b[0m\n\u001b[0m",
      "\u001b[0;31mAttributeError\u001b[0m: 'numpy.float64' object has no attribute 'name'"
     ]
    }
   ],
   "source": [
    "hero_sweep_ind = lsa_results['input_resistance'].name"
   ]
  },
  {
   "cell_type": "code",
   "execution_count": 15,
   "metadata": {},
   "outputs": [
    {
     "data": {
      "text/plain": [
       "17"
      ]
     },
     "execution_count": 15,
     "metadata": {},
     "output_type": "execute_result"
    }
   ],
   "source": [
    "hero_sweep_ind"
   ]
  },
  {
   "cell_type": "code",
   "execution_count": 21,
   "metadata": {},
   "outputs": [
    {
     "data": {
      "text/plain": [
       "-60.368126983642576"
      ]
     },
     "execution_count": 21,
     "metadata": {},
     "output_type": "execute_result"
    }
   ],
   "source": [
    "lsa_results['v_baseline']"
   ]
  },
  {
   "cell_type": "code",
   "execution_count": 39,
   "metadata": {},
   "outputs": [
    {
     "data": {
      "text/plain": [
       "<Figure size 576x360 with 0 Axes>"
      ]
     },
     "metadata": {},
     "output_type": "display_data"
    },
    {
     "data": {
      "image/png": "[encoded data removed]",
      "text/plain": [
       "<Figure size 432x288 with 2 Axes>"
      ]
     },
     "metadata": {
      "needs_background": "light"
     },
     "output_type": "display_data"
    }
   ],
   "source": [
    "import warnings\n",
    "\n",
    "abf_file_name = '15622024.abf'\n",
    "warnings.filterwarnings('ignore')\n",
    "p1 = plot_ephys_from_abf(abf_file_name, cell_final_raw_meta_df)\n"
   ]
  },
  {
   "cell_type": "code",
   "execution_count": 46,
   "metadata": {},
   "outputs": [
    {
     "data": {
      "text/plain": [
       "Text(0, 0.5, 'firing rate (spikes/s)')"
      ]
     },
     "execution_count": 46,
     "metadata": {},
     "output_type": "execute_result"
    },
    {
     "data": {
      "text/plain": [
       "<Figure size 432x288 with 0 Axes>"
      ]
     },
     "metadata": {},
     "output_type": "display_data"
    },
    {
     "data": {
      "image/png": "[encoded data removed]",
      "text/plain": [
       "<Figure size 432x288 with 1 Axes>"
      ]
     },
     "metadata": {
      "needs_background": "light"
     },
     "output_type": "display_data"
    }
   ],
   "source": [
    "plt.figure(2)\n",
    "p1\n",
    "plt.figure(3)\n",
    "plt.plot(spiking_df[\"stim_amp\"], spiking_df[\"avg_rate\"], '.-')\n",
    "sns.despine()\n",
    "plt.xlabel(\"stimulus amplitude (pA)\")\n",
    "plt.ylabel(\"firing rate (spikes/s)\")"
   ]
  },
  {
   "cell_type": "code",
   "execution_count": 50,
   "metadata": {},
   "outputs": [
    {
     "data": {
      "image/png": "[encoded data removed]",
      "text/plain": [
       "<Figure size 432x288 with 2 Axes>"
      ]
     },
     "execution_count": 50,
     "metadata": {},
     "output_type": "execute_result"
    },
    {
     "data": {
      "image/png": "[encoded data removed]",
      "text/plain": [
       "<Figure size 432x288 with 2 Axes>"
      ]
     },
     "metadata": {
      "needs_background": "light"
     },
     "output_type": "display_data"
    }
   ],
   "source": [
    "fig5 = plt.figure(constrained_layout=True)\n",
    "widths = [2, 3, 1.5]\n",
    "heights = [1, 3, 2]\n",
    "spec5 = fig5.add_gridspec(ncols=2, nrows=1, width_ratios=[2, 1])\n",
    "ax = fig5.add_subplot(spec5[0, 0])\n",
    "p1\n",
    "# ax = fig5.add_subplot(spec5[0, 1])\n",
    "# plt.plot(spiking_df[\"stim_amp\"], spiking_df[\"avg_rate\"], '.-')\n",
    "# sns.despine()\n",
    "# plt.xlabel(\"stimulus amplitude (pA)\")\n",
    "# plt.ylabel(\"firing rate (spikes/s)\")"
   ]
  },
  {
   "cell_type": "code",
   "execution_count": null,
   "metadata": {},
   "outputs": [],
   "source": []
  }
 ],
 "metadata": {
  "kernelspec": {
   "display_name": "Python 3",
   "language": "python",
   "name": "python3"
  },
  "language_info": {
   "codemirror_mode": {
    "name": "ipython",
    "version": 3
   },
   "file_extension": ".py",
   "mimetype": "text/x-python",
   "name": "python",
   "nbconvert_exporter": "python",
   "pygments_lexer": "ipython3",
   "version": "3.7.1"
  }
 },
 "nbformat": 4,
 "nbformat_minor": 2
}
