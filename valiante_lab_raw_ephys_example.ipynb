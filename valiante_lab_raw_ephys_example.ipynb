{
 "cells": [
  {
   "cell_type": "markdown",
   "metadata": {
    "colab_type": "text",
    "id": "view-in-github"
   },
   "source": [
    "<a href=\"https://colab.research.google.com/github/stripathy/valiante_lab_abf_process/blob/master/valiante_lab_raw_ephys_example.ipynb\" target=\"_parent\"><img src=\"https://colab.research.google.com/assets/colab-badge.svg\" alt=\"Open In Colab\"/></a>"
   ]
  },
  {
   "cell_type": "markdown",
   "metadata": {
    "colab_type": "text",
    "id": "UV3b2SI8JTJJ"
   },
   "source": [
    "# Illustrating download and plotting of valiante lab raw ephys datasets\n",
    "\n",
    "Notebook written by [Shreejoy Tripathy](https://triplab.org), with datasets collected and compiled by Homeira Moradi-Chameh in the lab of [Dr. Taufik Valiante](http://www.neurontobrainlaboratory.ca/). A scientific description and reference to the datasets is available on [bioRxiv](https://www.biorxiv.org/content/10.1101/748988v2)."
   ]
  },
  {
   "cell_type": "markdown",
   "metadata": {
    "colab_type": "text",
    "id": "f80Mf6g-FDJQ"
   },
   "source": [
    "# Using Allen Institute's feature extraction library, IPFX\n",
    "I've been using the allen institute intracellular ephys feature extraction toolbox, [IPFX](https://https://github.com/AllenInstitute/ipfx). It has some nice, straightforward data structures for intracellular ephys data and I've structured Homeira's data files from ABF into this structure."
   ]
  },
  {
   "cell_type": "code",
   "execution_count": 0,
   "metadata": {
    "colab": {},
    "colab_type": "code",
    "id": "maisCp9TBfxD"
   },
   "outputs": [],
   "source": [
    "# this downloads and installs the IPFX repo from github\n",
    "!pip install git+https://github.com/AllenInstitute/ipfx.git"
   ]
  },
  {
   "cell_type": "markdown",
   "metadata": {
    "colab_type": "text",
    "id": "Nw3CjYMoGE2d"
   },
   "source": [
    "# Downloading Valiante Lab raw ephys data from Github\n",
    "I've organized the abf-file based intrinsic ephys data into IPFX sweep set objects, located [here](https://github.com/stripathy/valiante_lab_abf_process/tree/master/sweep_sets). The lines below show how to download these files directly from github. They are stored on github as python pickle objects."
   ]
  },
  {
   "cell_type": "code",
   "execution_count": 20,
   "metadata": {
    "colab": {
     "base_uri": "https://localhost:8080/",
     "height": 34
    },
    "colab_type": "code",
    "id": "oZBy1LVzCqL3",
    "outputId": "2f49f5cd-95f7-48ab-aa62-7a726487d1ef"
   },
   "outputs": [
    {
     "name": "stdout",
     "output_type": "stream",
     "text": [
      "https://github.com/stripathy/valiante_lab_abf_process/blob/master/sweep_sets/13d03005.abf.p?raw=true\n"
     ]
    }
   ],
   "source": [
    "# download file from github repo\n",
    "\n",
    "intrinsic_file_name = '13d03005.abf'\n",
    "url = \"https://github.com/stripathy/valiante_lab_abf_process/blob/master/sweep_sets/%s.p?raw=true\" % (intrinsic_file_name) # dl=1 is important"
   ]
  },
  {
   "cell_type": "code",
   "execution_count": 0,
   "metadata": {
    "colab": {},
    "colab_type": "code",
    "id": "hC-S8Kq-EIuQ"
   },
   "outputs": [],
   "source": [
    "# download the file, write it to collab disk, and then load it into memory using python pickle library\n",
    "import urllib.request\n",
    "u = urllib.request.urlopen(url)\n",
    "data = u.read()\n",
    "u.close()\n",
    "filename = intrinsic_file_name + '.p'\n",
    "with open(filename, \"wb\") as f :\n",
    "    f.write(data)\n",
    "\n",
    "import pickle\n",
    "#print(data)\n",
    "\n",
    "# load the file into a python object called sweep_set\n",
    "with open(filename, 'rb') as fp:\n",
    "    sweep_set = pickle.load(fp)"
   ]
  },
  {
   "cell_type": "markdown",
   "metadata": {
    "colab_type": "text",
    "id": "rcLE1KEgIag2"
   },
   "source": [
    "# Load and plot intrinsic ephys data from IPFX SweepSet objects"
   ]
  },
  {
   "cell_type": "code",
   "execution_count": 26,
   "metadata": {
    "colab": {
     "base_uri": "https://localhost:8080/",
     "height": 272
    },
    "colab_type": "code",
    "id": "X1c0p5gKEUXI",
    "outputId": "6abd541a-2ca2-4604-ef51-ddc1fee189f6"
   },
   "outputs": [
    {
     "data": {
      "text/plain": [
       "[<ipfx.sweep.Sweep at 0x7f86a1294940>,\n",
       " <ipfx.sweep.Sweep at 0x7f86a0bdb4e0>,\n",
       " <ipfx.sweep.Sweep at 0x7f86a0b4bf98>,\n",
       " <ipfx.sweep.Sweep at 0x7f86a0b6d748>,\n",
       " <ipfx.sweep.Sweep at 0x7f86a0cfe7b8>,\n",
       " <ipfx.sweep.Sweep at 0x7f86a0b5eb38>,\n",
       " <ipfx.sweep.Sweep at 0x7f86a0bd9908>,\n",
       " <ipfx.sweep.Sweep at 0x7f86a0bd9cf8>,\n",
       " <ipfx.sweep.Sweep at 0x7f86a0bd9a90>,\n",
       " <ipfx.sweep.Sweep at 0x7f86a0bd9e80>,\n",
       " <ipfx.sweep.Sweep at 0x7f86a0bd9978>,\n",
       " <ipfx.sweep.Sweep at 0x7f86a0bd9278>,\n",
       " <ipfx.sweep.Sweep at 0x7f86a0bd9da0>,\n",
       " <ipfx.sweep.Sweep at 0x7f86a0bd96d8>,\n",
       " <ipfx.sweep.Sweep at 0x7f86a0bd92b0>]"
      ]
     },
     "execution_count": 26,
     "metadata": {
      "tags": []
     },
     "output_type": "execute_result"
    }
   ],
   "source": [
    "# sweep_set is the ipfx object that stores the intrinsic ephys data from a particular cell. \n",
    "# It's organized into a list of Sweep objects and by increasing step current injection\n",
    "sweep_set.sweeps"
   ]
  },
  {
   "cell_type": "code",
   "execution_count": 29,
   "metadata": {
    "colab": {
     "base_uri": "https://localhost:8080/",
     "height": 265
    },
    "colab_type": "code",
    "id": "qq56S5fYEo9J",
    "outputId": "e83a32c4-91f8-4cc9-f253-0d7f75d0d7a1"
   },
   "outputs": [
    {
     "data": {
      "image/png": "[encoded data removed]",
      "text/plain": [
       "<Figure size 432x288 with 2 Axes>"
      ]
     },
     "metadata": {
      "needs_background": "light",
      "tags": []
     },
     "output_type": "display_data"
    }
   ],
   "source": [
    "import numpy as np\n",
    "import pandas as pd\n",
    "import matplotlib.pyplot as plt\n",
    "import seaborn as sns\n",
    "\n",
    "from ipfx.sweep import Sweep, SweepSet\n",
    "\n",
    "sweep_plot_index = 13\n",
    "curr_sweep = sweep_set.sweeps[sweep_plot_index]\n",
    "t = curr_sweep.t\n",
    "v = curr_sweep.v\n",
    "i = curr_sweep.i\n",
    "\n",
    "fig, axes = plt.subplots(2, 1, sharex=True)\n",
    "\n",
    "axes[0].plot(t, v)\n",
    "axes[0].set_xlim(0, 1)\n",
    "axes[0].set_ylabel(\"mV\")\n",
    "\n",
    "axes[1].plot(t, i, c=\"orange\")\n",
    "axes[1].set_ylabel(\"pA\")\n",
    "\n",
    "sns.despine()"
   ]
  }
 ],
 "metadata": {
  "colab": {
   "authorship_tag": "ABX9TyPi9VYBB4x6wNs4DHrJgZ2o",
   "collapsed_sections": [],
   "include_colab_link": true,
   "name": "valiante_lab_raw_ephys_example.ipynb",
   "provenance": []
  },
  "kernelspec": {
   "display_name": "Python 3",
   "language": "python",
   "name": "python3"
  },
  "language_info": {
   "codemirror_mode": {
    "name": "ipython",
    "version": 3
   },
   "file_extension": ".py",
   "mimetype": "text/x-python",
   "name": "python",
   "nbconvert_exporter": "python",
   "pygments_lexer": "ipython3",
   "version": "3.7.1"
  }
 },
 "nbformat": 4,
 "nbformat_minor": 1
}
